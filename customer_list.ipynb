{
  "cells": [
    {
      "cell_type": "code",
      "execution_count": 1,
      "metadata": {
        "colab": {
          "base_uri": "https://localhost:8080/",
          "height": 480
        },
        "id": "YncRjveXeE0r",
        "outputId": "3a6b3c0b-a404-4651-f1c8-004eb5f24228"
      },
      "outputs": [],
      "source": [
        "from __future__ import print_function\n",
        "import numpy as np\n",
        "import pandas as pd\n",
        "np.random.seed(1)\n",
        "import sys\n",
        "import sklearn\n",
        "import sklearn.ensemble\n",
        "%load_ext autoreload\n",
        "%autoreload 2\n",
        "from anchor import anchor_tabular\n",
        "from sklearn.model_selection import train_test_split\n",
        "import re\n",
        "import copy\n",
        "import json"
      ]
    },
    {
      "cell_type": "code",
      "execution_count": 2,
      "metadata": {
        "id": "eTbxmbDbeE0t"
      },
      "outputs": [],
      "source": [
        "import random\n",
        "import pandas as pd\n",
        "import matplotlib.pyplot as plt "
      ]
    },
    {
      "cell_type": "code",
      "execution_count": 3,
      "metadata": {
        "id": "yscqImHSeE0u"
      },
      "outputs": [],
      "source": [
        "## 定義一個 class\n",
        "class Bunch(object):\n",
        "    \"\"\"bla\"\"\"\n",
        "    def __init__(self, adict):\n",
        "        self.__dict__.update(adict)\n",
        "dataset = Bunch({})"
      ]
    },
    {
      "cell_type": "code",
      "execution_count": 4,
      "metadata": {
        "id": "-Lme6nBZeE0u"
      },
      "outputs": [],
      "source": [
        "# 原本的 code\n",
        "seed = 42\n",
        "random.seed(seed)\n",
        "\n",
        "df = pd.read_csv('BankChurners.csv')\n",
        "df = df[df.columns[:-2]]\n",
        "df = df.fillna(0)\n",
        "df['Attrition_Flag'] = df['Attrition_Flag'].replace({'Attrited Customer':1, 'Existing Customer':0})\n",
        "df['Gender'] = df['Gender'].replace({'M':1, 'F':0})\n",
        "df = df.drop('CLIENTNUM',axis=1)\n",
        "df = pd.get_dummies(data=df, columns=['Education_Level', 'Marital_Status', \n",
        "                                      'Income_Category', 'Card_Category']) # one-hot encoding\n"
      ]
    },
    {
      "cell_type": "code",
      "execution_count": 5,
      "metadata": {
        "id": "Tsl5kshgeE0v"
      },
      "outputs": [],
      "source": [
        "churn_index = df.index[df.Attrition_Flag == 1].tolist()\n",
        "non_churn_index = df.index[df.Attrition_Flag == 0].tolist()\n",
        "non_churn_index = random.sample(non_churn_index, len(churn_index)) # 讓 churn : non_churn 資料個數為 1 : 1\n",
        "new_idx = churn_index + non_churn_index\n",
        "df = df.loc[new_idx]"
      ]
    },
    {
      "cell_type": "code",
      "execution_count": 6,
      "metadata": {
        "id": "QQuwCe_meE01",
        "outputId": "b10b1546-7b77-40d7-c26b-50a8b8636b5b"
      },
      "outputs": [
        {
          "name": "stdout",
          "output_type": "stream",
          "text": [
            "(3254,)\n",
            "(3254, 36)\n"
          ]
        }
      ],
      "source": [
        "# 把原本的 pandas.DataFrame 轉成 np.array \n",
        "y = df['Attrition_Flag'].to_numpy()\n",
        "df_no_y = df.drop('Attrition_Flag', axis=1)\n",
        "x = df_no_y.to_numpy()\n",
        "print(y.shape)\n",
        "print(x.shape)"
      ]
    },
    {
      "cell_type": "code",
      "execution_count": 7,
      "metadata": {
        "colab": {
          "base_uri": "https://localhost:8080/",
          "height": 237
        },
        "id": "oSD-XPpmeE03",
        "outputId": "3b92e497-d68a-4203-cc56-dc981b8d32e6"
      },
      "outputs": [
        {
          "name": "stdout",
          "output_type": "stream",
          "text": [
            "Train 1.0\n",
            "Test 0.9416282642089093\n"
          ]
        }
      ],
      "source": [
        "# 模型預測\n",
        "c = sklearn.ensemble.RandomForestClassifier(n_estimators=50, n_jobs=5)\n",
        "train_x, test_x, train_y, test_y = train_test_split(x, y, test_size=0.2, random_state=100)\n",
        "c.fit(train_x, train_y)\n",
        "print('Train', sklearn.metrics.accuracy_score(train_y, c.predict(train_x)))\n",
        "print('Test', sklearn.metrics.accuracy_score(test_y, c.predict(test_x)))"
      ]
    },
    {
      "cell_type": "code",
      "execution_count": 8,
      "metadata": {
        "id": "AwLY8cHzeE03"
      },
      "outputs": [],
      "source": [
        "# 定義 anchor 中的參數\n",
        "dataset.train = train_x # 訓練資料 (numpy)\n",
        "dataset.test = test_x  # 測試資料 (numpy)\n",
        "dataset.categorical_names = {} # label encoding前的內容 (dict) \n",
        "dataset.class_names = ['Existing Customer','Attrited Customer'] # label的名稱 (list) \n",
        "dataset.feature_names = np.array(df_no_y.columns.to_list()) # feature的名稱 (numpy)"
      ]
    },
    {
      "cell_type": "code",
      "execution_count": 9,
      "metadata": {
        "colab": {
          "base_uri": "https://localhost:8080/",
          "height": 237
        },
        "id": "ShzYOjcseE04",
        "outputId": "f08c7d65-6c07-4eb8-903e-e0a99ca95fb0"
      },
      "outputs": [],
      "source": [
        "# anchor explainer \n",
        "explainer = anchor_tabular.AnchorTabularExplainer(\n",
        "    dataset.class_names,\n",
        "    dataset.feature_names,\n",
        "    dataset.train,\n",
        "    dataset.categorical_names)"
      ]
    },
    {
      "cell_type": "code",
      "execution_count": 10,
      "metadata": {},
      "outputs": [],
      "source": [
        "'''\n",
        "input 內容:\n",
        "    1. start -> 從哪一個客戶開始找 anchor\n",
        "    2. number -> 要從幾個客戶身上找 anchor\n",
        "    3. dataset -> 訓練模型時使用的 dataset\n",
        "    4. df -> 原始表格\n",
        "    5. model -> 要解釋的模型\n",
        "    6. seed -> 亂數種子(預設為1) \n",
        "\n",
        "\n",
        "重要變數:\n",
        "    1. anchors_list : 所有 anchor 集合\n",
        "    2. anchors : 做過 regular expression 的所有 anchor 集合\n",
        "    3. anchors_info : anchor 詳細資料  \n",
        "        (1) 規則\n",
        "        (2) anchor 所包含的客戶數量\n",
        "        (3) \n",
        "    4. potential_customer : 潛在客戶名單\n",
        "    \n",
        "'''\n",
        "def customer_list(start, number, dataset, df, model, seed = 1):\n",
        "    \n",
        "    # 設定種子\n",
        "    np.random.seed(seed)\n",
        "\n",
        "    # 製作 Anchors 解釋器\n",
        "    explainer = anchor_tabular.AnchorTabularExplainer(\n",
        "            dataset.class_names,\n",
        "            dataset.feature_names,\n",
        "            dataset.train,\n",
        "            dataset.categorical_names)\n",
        "\n",
        "    # 變數定義\n",
        "    potential_customer = pd.DataFrame() #潛在客戶名單\n",
        "    anchors_list = [] # anchors 規則清單\n",
        "    anchors_list_confidence = [] # anchors 規則信心水準清單\n",
        "    anchors = [] # 經過 regular expression 的 anchors 規則\n",
        "    anchors_info = [] # anchors 詳細清單\n",
        "    \n",
        "    \n",
        "    \n",
        "    # 從 anchors 抓取資訊\n",
        "    current_number = 0\n",
        "    for i in dataset.test[start:]:\n",
        "        if (current_number == number):\n",
        "            break\n",
        "        if(model.predict(i.reshape(1, -1))[0]):\n",
        "            exp = explainer.explain_instance(i, model.predict, threshold=0.95)\n",
        "            anchors_list.append(exp.names()) # anchors 結果\n",
        "            anchors_list_confidence.append(exp.precision()) # anchors 精確度\n",
        "            current_number += 1\n",
        "    \n",
        "    # 將重複的 anchors 刪掉\n",
        "    temp_anchors_list = []\n",
        "    for i,j in enumerate(anchors_list):\n",
        "        if j not in anchors:\n",
        "            temp_anchors_list.append(j)\n",
        "            anchors_info.append(\n",
        "                {\n",
        "                    \"condition\" : j,\n",
        "                    \"Quantity covered\" : 0,\n",
        "                    \"confidence interval\" : anchors_list_confidence[i]\n",
        "                }\n",
        "            ) \n",
        "    anchors_list = temp_anchors_list\n",
        "   \n",
        "    # 將規則做 regular expression 並存入 anchors 中 \n",
        "    for i in anchors_list:   \n",
        "        str_split = [re.split('( <= | >= | < | > )',j) for j in i]\n",
        "        anchors.append(str_split)\n",
        "    \n",
        "    ## 從找到的規則中尋找潛在客戶  \n",
        "    '''\n",
        "    演算法 :\n",
        "    \n",
        "    1. 從全部的 anchors 中，取出一個 anchor，後續步驟以下分述之:\n",
        "\n",
        "        (1) 根據該 anchor 中的條件取出一個條件進行篩選，並將篩選出是否符合客戶資料之結果，放入 idx 變數中。\n",
        "        (2) 使用 idx 變數篩選符合該條件的客戶，存到 temp_df變數中。若有其他條件需要篩選 -> 回到(1)；否則則進到(3)。\n",
        "        (3) 將 temp_df 中 label 為 0 (非目前客戶)的客戶，放入潛在客戶名單。若有其他 anchor 未計算 -> 回到 1.；否則則進到 2.。 \n",
        "    \n",
        "    2. 將資料輸出，輸出內容以下分述之:\n",
        "        \n",
        "        (1) anchor 名單\n",
        "        (2) 潛在客戶名單\n",
        "    '''\n",
        "    for n,anchor in enumerate(anchors):\n",
        "        \n",
        "        temp_df = df \n",
        "        for i in anchor:\n",
        "            if (i[1] == ' >= '):\n",
        "                idx = temp_df.loc[:,i[0]] >= float(i[2])\n",
        "            elif (i[1] == ' <= '):\n",
        "                idx = temp_df.loc[:,i[0]] <= float(i[2])\n",
        "            elif (i[1] == ' > '):\n",
        "                idx = temp_df.loc[:,i[0]] > float(i[2])\n",
        "            elif (i[1] == ' < '):\n",
        "                idx = temp_df.loc[:,i[0]] < float(i[2])\n",
        "            else:\n",
        "                continue\n",
        "             \n",
        "            temp_df = temp_df[idx]\n",
        "            anchors_info[n]['Quantity covered'] = temp_df.shape[0] \n",
        "\n",
        "        else:    \n",
        "            idx = temp_df.loc[:,'Attrition_Flag'] == 0\n",
        "            temp_df = temp_df[idx] \n",
        "            potential_customer = pd.concat([potential_customer,temp_df], join='outer')\n",
        "\n",
        "    \n",
        "    with open(\"anchors.json\", \"w\", encoding='utf-8') as f:\n",
        "        json.dump(anchors_list, f, indent = 4)\n",
        "\n",
        "    with open(\"anchors_info.json\", \"w\", encoding='utf-8') as f:\n",
        "        json.dump(anchors_info, f, indent = 4)\n",
        "\n",
        "    potential_customer.to_excel(\"potential_customer.xlsx\")\n",
        "    \n",
        "    return(potential_customer)"
      ]
    },
    {
      "cell_type": "code",
      "execution_count": 11,
      "metadata": {},
      "outputs": [
        {
          "name": "stdout",
          "output_type": "stream",
          "text": [
            "      Attrition_Flag  Customer_Age  Gender  Dependent_count  Months_on_book  \\\n",
            "124                0            55       1                2              42   \n",
            "8248               0            43       1                1              30   \n",
            "1541               0            45       1                4              37   \n",
            "1151               0            44       0                3              36   \n",
            "3902               0            50       1                3              36   \n",
            "7931               0            45       1                3              37   \n",
            "163                0            47       0                4              41   \n",
            "374                0            55       0                1              43   \n",
            "3428               0            45       0                3              36   \n",
            "2136               0            26       0                1              15   \n",
            "1935               0            44       1                1              33   \n",
            "113                0            54       0                0              36   \n",
            "63                 0            44       1                4              32   \n",
            "260                0            36       1                2              22   \n",
            "258                0            45       0                2              35   \n",
            "152                0            50       0                1              31   \n",
            "\n",
            "      Total_Relationship_Count  Months_Inactive_12_mon  Contacts_Count_12_mon  \\\n",
            "124                          2                       3                      2   \n",
            "8248                         1                       1                      3   \n",
            "1541                         5                       2                      4   \n",
            "1151                         6                       3                      3   \n",
            "3902                         5                       3                      4   \n",
            "7931                         1                       3                      2   \n",
            "163                          6                       5                      3   \n",
            "374                          4                       2                      0   \n",
            "3428                         4                       4                      3   \n",
            "2136                         3                       4                      3   \n",
            "1935                         5                       4                      3   \n",
            "113                          2                       2                      2   \n",
            "63                           2                       4                      2   \n",
            "260                          2                       2                      3   \n",
            "258                          2                       3                      0   \n",
            "152                          2                       2                      3   \n",
            "\n",
            "      Credit_Limit  Total_Revolving_Bal  ...  Income_Category_$120K +  \\\n",
            "124        34516.0                 1527  ...                        1   \n",
            "8248       34516.0                 2045  ...                        0   \n",
            "1541        6784.0                  891  ...                        0   \n",
            "1151        1467.0                  896  ...                        0   \n",
            "3902       27876.0                  557  ...                        1   \n",
            "7931        2449.0                    0  ...                        0   \n",
            "163         3482.0                 2114  ...                        0   \n",
            "374         2569.0                 1403  ...                        0   \n",
            "3428        6245.0                    0  ...                        0   \n",
            "2136        5464.0                    0  ...                        0   \n",
            "1935       19214.0                    0  ...                        0   \n",
            "113         1494.0                  706  ...                        0   \n",
            "63         23957.0                 2102  ...                        1   \n",
            "260        34516.0                 1652  ...                        0   \n",
            "258         3540.0                  849  ...                        0   \n",
            "152        18386.0                    0  ...                        0   \n",
            "\n",
            "      Income_Category_$40K - $60K  Income_Category_$60K - $80K  \\\n",
            "124                             0                            0   \n",
            "8248                            0                            0   \n",
            "1541                            0                            1   \n",
            "1151                            0                            0   \n",
            "3902                            0                            0   \n",
            "7931                            1                            0   \n",
            "163                             0                            0   \n",
            "374                             0                            0   \n",
            "3428                            0                            0   \n",
            "2136                            0                            0   \n",
            "1935                            0                            0   \n",
            "113                             0                            0   \n",
            "63                              0                            0   \n",
            "260                             0                            0   \n",
            "258                             1                            0   \n",
            "152                             1                            0   \n",
            "\n",
            "      Income_Category_$80K - $120K  Income_Category_Less than $40K  \\\n",
            "124                              0                               0   \n",
            "8248                             1                               0   \n",
            "1541                             0                               0   \n",
            "1151                             0                               1   \n",
            "3902                             0                               0   \n",
            "7931                             0                               0   \n",
            "163                              0                               1   \n",
            "374                              0                               1   \n",
            "3428                             0                               1   \n",
            "2136                             0                               0   \n",
            "1935                             1                               0   \n",
            "113                              0                               1   \n",
            "63                               0                               0   \n",
            "260                              1                               0   \n",
            "258                              0                               0   \n",
            "152                              0                               0   \n",
            "\n",
            "      Income_Category_Unknown  Card_Category_Blue  Card_Category_Gold  \\\n",
            "124                         0                   0                   0   \n",
            "8248                        0                   0                   0   \n",
            "1541                        0                   1                   0   \n",
            "1151                        0                   1                   0   \n",
            "3902                        0                   1                   0   \n",
            "7931                        0                   1                   0   \n",
            "163                         0                   1                   0   \n",
            "374                         0                   1                   0   \n",
            "3428                        0                   1                   0   \n",
            "2136                        1                   1                   0   \n",
            "1935                        0                   1                   0   \n",
            "113                         0                   1                   0   \n",
            "63                          0                   1                   0   \n",
            "260                         0                   1                   0   \n",
            "258                         0                   1                   0   \n",
            "152                         0                   0                   0   \n",
            "\n",
            "      Card_Category_Platinum  Card_Category_Silver  \n",
            "124                        0                     1  \n",
            "8248                       0                     1  \n",
            "1541                       0                     0  \n",
            "1151                       0                     0  \n",
            "3902                       0                     0  \n",
            "7931                       0                     0  \n",
            "163                        0                     0  \n",
            "374                        0                     0  \n",
            "3428                       0                     0  \n",
            "2136                       0                     0  \n",
            "1935                       0                     0  \n",
            "113                        0                     0  \n",
            "63                         0                     0  \n",
            "260                        0                     0  \n",
            "258                        0                     0  \n",
            "152                        0                     1  \n",
            "\n",
            "[16 rows x 37 columns]\n"
          ]
        }
      ],
      "source": [
        "# anchor \n",
        "start = 10\n",
        "number = 10\n",
        "print(customer_list(start, number, dataset, df, c))\n"
      ]
    },
    {
      "cell_type": "markdown",
      "metadata": {},
      "source": [
        "potential_customer = pd.DataFrame()\n",
        "for j in anchor:\n",
        "    idxUnion = 0\n",
        "    temp_df = df\n",
        "    for n,i in enumerate(j):\n",
        "        if (i[1] == ' >= '):\n",
        "            idx = temp_df.loc[:,i[0]] >= float(i[2])\n",
        "        elif (i[1] == ' <= '):\n",
        "            idx = temp_df.loc[:,i[0]] <= float(i[2])\n",
        "        elif (i[1] == ' > '):\n",
        "            idx = temp_df.loc[:,i[0]] > float(i[2])\n",
        "        elif (i[1] == ' < '):\n",
        "            idx = temp_df.loc[:,i[0]] < float(i[2])\n",
        "        else:\n",
        "            continue\n",
        "        \n",
        "        if n == 0:\n",
        "            idxUnion = idx\n",
        "        else:\n",
        "            idxUnion = idx & idxUnion\n",
        "        \n",
        "        temp_df = temp_df[idxUnion]\n",
        "        idxUnion = idxUnion[idxUnion]\n",
        "        #print(temp_df.shape)\n",
        "    else:    \n",
        "        idx = temp_df.loc[:,'Attrition_Flag'] == 0\n",
        "        idxUnion = idx & idxUnion\n",
        "        temp_df = temp_df[idxUnion] \n",
        "        #print(temp_df.shape) \n",
        "        #idxUnion = idxUnion[idxUnion]\n",
        "        potential_customer = pd.concat([potential_customer,temp_df], join='outer')\n",
        "    "
      ]
    }
  ],
  "metadata": {
    "colab": {
      "provenance": []
    },
    "kernelspec": {
      "display_name": "Python 3.10.6 64-bit",
      "language": "python",
      "name": "python3"
    },
    "language_info": {
      "codemirror_mode": {
        "name": "ipython",
        "version": 3
      },
      "file_extension": ".py",
      "mimetype": "text/x-python",
      "name": "python",
      "nbconvert_exporter": "python",
      "pygments_lexer": "ipython3",
      "version": "3.10.6"
    },
    "orig_nbformat": 4,
    "vscode": {
      "interpreter": {
        "hash": "9f32e29f85dbbd0b5b72d11109c42db7aa21d3406279ecdc66ca42ae05d6c5ee"
      }
    }
  },
  "nbformat": 4,
  "nbformat_minor": 0
}
