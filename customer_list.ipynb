{
  "cells": [
    {
      "cell_type": "code",
      "execution_count": 52,
      "metadata": {
        "colab": {
          "base_uri": "https://localhost:8080/",
          "height": 480
        },
        "id": "YncRjveXeE0r",
        "outputId": "3a6b3c0b-a404-4651-f1c8-004eb5f24228"
      },
      "outputs": [
        {
          "name": "stdout",
          "output_type": "stream",
          "text": [
            "The autoreload extension is already loaded. To reload it, use:\n",
            "  %reload_ext autoreload\n"
          ]
        }
      ],
      "source": [
        "from __future__ import print_function\n",
        "import numpy as np\n",
        "import pandas as pd\n",
        "np.random.seed(1)\n",
        "import sys\n",
        "import sklearn\n",
        "import sklearn.ensemble\n",
        "%load_ext autoreload\n",
        "%autoreload 2\n",
        "from anchor import anchor_tabular\n",
        "from sklearn.model_selection import train_test_split\n",
        "import re\n",
        "import copy\n",
        "import json"
      ]
    },
    {
      "cell_type": "code",
      "execution_count": 53,
      "metadata": {
        "id": "eTbxmbDbeE0t"
      },
      "outputs": [],
      "source": [
        "import random\n",
        "import pandas as pd\n",
        "import matplotlib.pyplot as plt "
      ]
    },
    {
      "cell_type": "code",
      "execution_count": 54,
      "metadata": {
        "id": "yscqImHSeE0u"
      },
      "outputs": [],
      "source": [
        "## 定義一個 class\n",
        "class Bunch(object):\n",
        "    \"\"\"bla\"\"\"\n",
        "    def __init__(self, adict):\n",
        "        self.__dict__.update(adict)\n",
        "dataset = Bunch({})"
      ]
    },
    {
      "cell_type": "code",
      "execution_count": 55,
      "metadata": {
        "id": "-Lme6nBZeE0u"
      },
      "outputs": [],
      "source": [
        "# 原本的 code\n",
        "seed = 42\n",
        "random.seed(seed)\n",
        "\n",
        "df = pd.read_csv('BankChurners.csv')\n",
        "df = df[df.columns[:-2]]\n",
        "df = df.fillna(0)\n",
        "df['Attrition_Flag'] = df['Attrition_Flag'].replace({'Attrited Customer':1, 'Existing Customer':0})\n",
        "df['Gender'] = df['Gender'].replace({'M':1, 'F':0})\n",
        "df = df.drop('CLIENTNUM',axis=1)\n",
        "df = pd.get_dummies(data=df, columns=['Education_Level', 'Marital_Status', \n",
        "                                      'Income_Category', 'Card_Category']) # one-hot encoding\n"
      ]
    },
    {
      "cell_type": "code",
      "execution_count": 56,
      "metadata": {
        "id": "Tsl5kshgeE0v"
      },
      "outputs": [],
      "source": [
        "churn_index = df.index[df.Attrition_Flag == 1].tolist()\n",
        "non_churn_index = df.index[df.Attrition_Flag == 0].tolist()\n",
        "non_churn_index = random.sample(non_churn_index, len(churn_index)) # 讓 churn : non_churn 資料個數為 1 : 1\n",
        "new_idx = churn_index + non_churn_index\n",
        "df = df.loc[new_idx]"
      ]
    },
    {
      "cell_type": "code",
      "execution_count": 57,
      "metadata": {
        "id": "QQuwCe_meE01",
        "outputId": "b10b1546-7b77-40d7-c26b-50a8b8636b5b"
      },
      "outputs": [
        {
          "name": "stdout",
          "output_type": "stream",
          "text": [
            "(3254,)\n",
            "(3254, 36)\n"
          ]
        }
      ],
      "source": [
        "# 把原本的 pandas.DataFrame 轉成 np.array \n",
        "y = df['Attrition_Flag'].to_numpy()\n",
        "df_no_y = df.drop('Attrition_Flag', axis=1)\n",
        "x = df_no_y.to_numpy()\n",
        "print(y.shape)\n",
        "print(x.shape)"
      ]
    },
    {
      "cell_type": "code",
      "execution_count": 58,
      "metadata": {
        "colab": {
          "base_uri": "https://localhost:8080/",
          "height": 237
        },
        "id": "oSD-XPpmeE03",
        "outputId": "3b92e497-d68a-4203-cc56-dc981b8d32e6"
      },
      "outputs": [
        {
          "name": "stdout",
          "output_type": "stream",
          "text": [
            "Train 1.0\n",
            "Test 0.9416282642089093\n"
          ]
        }
      ],
      "source": [
        "# 模型預測\n",
        "c = sklearn.ensemble.RandomForestClassifier(n_estimators=50, n_jobs=5)\n",
        "train_x, test_x, train_y, test_y = train_test_split(x, y, test_size=0.2, random_state=100)\n",
        "c.fit(train_x, train_y)\n",
        "print('Train', sklearn.metrics.accuracy_score(train_y, c.predict(train_x)))\n",
        "print('Test', sklearn.metrics.accuracy_score(test_y, c.predict(test_x)))"
      ]
    },
    {
      "cell_type": "code",
      "execution_count": 59,
      "metadata": {
        "id": "AwLY8cHzeE03"
      },
      "outputs": [],
      "source": [
        "# 定義 anchor 中的參數\n",
        "dataset.train = train_x # 訓練資料 (numpy)\n",
        "dataset.test = test_x  # 測試資料 (numpy)\n",
        "dataset.categorical_names = {} # label encoding前的內容 (dict) \n",
        "dataset.class_names = ['Existing Customer','Attrited Customer'] # label的名稱 (list) \n",
        "dataset.feature_names = np.array(df_no_y.columns.to_list()) # feature的名稱 (numpy)"
      ]
    },
    {
      "cell_type": "code",
      "execution_count": 60,
      "metadata": {
        "colab": {
          "base_uri": "https://localhost:8080/",
          "height": 237
        },
        "id": "ShzYOjcseE04",
        "outputId": "f08c7d65-6c07-4eb8-903e-e0a99ca95fb0"
      },
      "outputs": [],
      "source": [
        "# anchor explainer \n",
        "explainer = anchor_tabular.AnchorTabularExplainer(\n",
        "    dataset.class_names,\n",
        "    dataset.feature_names,\n",
        "    dataset.train,\n",
        "    dataset.categorical_names)"
      ]
    },
    {
      "cell_type": "code",
      "execution_count": 66,
      "metadata": {},
      "outputs": [
        {
          "data": {
            "text/plain": [
              "(2603, 36)"
            ]
          },
          "execution_count": 66,
          "metadata": {},
          "output_type": "execute_result"
        }
      ],
      "source": [
        "dataset.train.shape"
      ]
    },
    {
      "cell_type": "code",
      "execution_count": 99,
      "metadata": {},
      "outputs": [],
      "source": [
        "'''\n",
        "input 內容:\n",
        "    1. start -> 從哪一個客戶開始找 anchor\n",
        "    2. number -> 要從幾個客戶身上找 anchor\n",
        "    3. dataset -> 訓練模型時使用的 dataset\n",
        "    4. df -> 原始表格\n",
        "    5. model -> 要解釋的模型\n",
        "    6. seed -> 亂數種子(預設為1) \n",
        "\n",
        "\n",
        "重要變數:\n",
        "    1. anchors_list : 所有 anchor 集合\n",
        "    2. anchors : 做過 regular expression 的所有 anchor 集合\n",
        "    3. anchors_info : anchor 詳細資料  \n",
        "        (1) anchors 規則\n",
        "        (2) anchors 所包含的客戶數量(原本兆豐所有客戶中所包含的客戶數量)\n",
        "        (3) anchors 信心水準 \n",
        "    4. potential_customer : 潛在客戶名單\n",
        "    \n",
        "'''\n",
        "def customer_list(start, number, dataset, df, model, seed = 1):\n",
        "    \n",
        "    # 設定種子\n",
        "    np.random.seed(seed)\n",
        "\n",
        "    # 製作 Anchors 解釋器\n",
        "    explainer = anchor_tabular.AnchorTabularExplainer(\n",
        "            dataset.class_names,\n",
        "            dataset.feature_names,\n",
        "            dataset.train,\n",
        "            dataset.categorical_names)\n",
        "\n",
        "    # 變數定義\n",
        "    potential_customer = pd.DataFrame() # 潛在客戶名單\n",
        "    anchors_list = [] # anchors 規則清單\n",
        "    anchors_list_confidence = [] # anchors 規則信心水準清單\n",
        "    anchors = [] # 經過 regular expression 的 anchors 規則\n",
        "    anchors_info = [] # anchors 詳細清單\n",
        "    \n",
        "    # dicts\n",
        "    dicts = {}\n",
        "    for i in range(len(dataset.feature_names)):\n",
        "        dicts[dataset.feature_names[i]] = i\n",
        "\n",
        "    # 從 anchors 抓取資訊\n",
        "    current_number = 0\n",
        "    data = np.vstack([dataset.test,dataset.train])\n",
        "    data = np.vstack([data,data[0]])\n",
        "    data = np.vstack([data,data[0]])\n",
        "    data = np.vstack([data,data[0]])\n",
        "    data = np.vstack([data,data[0]])\n",
        "    data = np.vstack([data,data[0]])\n",
        "    data = np.vstack([data,data[0]])\n",
        "\n",
        "    while(current_number < number):\n",
        "        print(data.shape)\n",
        "        i = data[0]\n",
        "        cond = [True]*data.shape[0]\n",
        "        print(current_number)\n",
        "        if(model.predict(i.reshape(1, -1))[0]):\n",
        "            exp = explainer.explain_instance(i, model.predict, threshold=0.90)\n",
        "            str_split = [re.split('( <= | >= | < | > )',j) for j in exp.names()]\n",
        "            \n",
        "            for idx,vle in enumerate(str_split):\n",
        "                if len(vle) == 5:\n",
        "                    vle[1] = vle[1].replace('>','<').replace('<','>')   \n",
        "                    str_split.append(vle[2:])\n",
        "                    str_split.append(vle[:3][::-1])\n",
        "                    del str_split[idx]\n",
        "            \n",
        "            for ii in str_split:\n",
        "                if (ii[1] == ' >= '):\n",
        "                    idx = data[:,dicts[ii[0]]] >= float(ii[2])\n",
        "                elif (ii[1] == ' <= '):\n",
        "                    idx = data[:,dicts[ii[0]]] <= float(ii[2])\n",
        "                elif (ii[1] == ' > '):\n",
        "                    idx = data[:,dicts[ii[0]]] > float(ii[2])\n",
        "                elif (ii[1] == ' < '):\n",
        "                    idx = data[:,dicts[ii[0]]] < float(ii[2])\n",
        "                cond = cond & idx  \n",
        "            cond = np.logical_not(cond)  \n",
        "            data = data[cond]  \n",
        "            \n",
        "            anchors.append(str_split)\n",
        "            anchors_list.append(exp.names()) # anchors 結果\n",
        "            anchors_list_confidence.append(exp.precision()) # anchors 精確度\n",
        "            current_number += 1\n",
        "\n",
        "        else: \n",
        "            data = np.delete(data ,0 ,0)\n",
        "\n",
        "    # 將重複的 anchors 刪掉\n",
        "    for i,j in enumerate(anchors_list):\n",
        "            anchors_info.append(\n",
        "                {\n",
        "                    \"condition\" : j,\n",
        "                    \"Quantity covered\" : 0,\n",
        "                    \"confidence interval\" : anchors_list_confidence[i]\n",
        "                }\n",
        "            ) \n",
        "   \n",
        "  \n",
        "    ## 從找到的規則中尋找潛在客戶  \n",
        "    '''\n",
        "    演算法 :\n",
        "    \n",
        "    1. 從全部的 anchors 中，取出一個 anchor，後續步驟以下分述之:\n",
        "\n",
        "        (1) 根據該 anchor 中的條件取出一個條件進行篩選，並將篩選出是否符合客戶資料之結果，放入 idx 變數中。\n",
        "        (2) 使用 idx 變數篩選符合該條件的客戶，存到 temp_df變數中。若有其他條件需要篩選 -> 回到(1)；否則則進到(3)。\n",
        "        (3) 將 temp_df 中 label 為 0 (非目前客戶)的客戶，放入潛在客戶名單。若有其他 anchor 未計算 -> 回到 1.；否則則進到 2.。 \n",
        "    \n",
        "    2. 將資料輸出，輸出內容以下分述之:\n",
        "        \n",
        "        (1) anchor 名單\n",
        "        (2) 潛在客戶名單\n",
        "    '''\n",
        "\n",
        "    for n,anchor in enumerate(anchors):\n",
        "        \n",
        "        temp_df = df \n",
        "        for i in anchor:\n",
        "            if (i[1] == ' >= '):\n",
        "                idx = temp_df.loc[:,i[0]] >= float(i[2])\n",
        "            elif (i[1] == ' <= '):\n",
        "                idx = temp_df.loc[:,i[0]] <= float(i[2])\n",
        "            elif (i[1] == ' > '):\n",
        "                idx = temp_df.loc[:,i[0]] > float(i[2])\n",
        "            elif (i[1] == ' < '):\n",
        "                idx = temp_df.loc[:,i[0]] < float(i[2])\n",
        "            else:\n",
        "                continue\n",
        "             \n",
        "            temp_df = temp_df[idx]\n",
        "            anchors_info[n]['Quantity covered'] = temp_df.shape[0]\n",
        "            \n",
        "        else: \n",
        "            idx = temp_df.loc[:,'Attrition_Flag'] == 0\n",
        "            temp_df = temp_df[idx] \n",
        "            potential_customer = pd.concat([potential_customer,temp_df], join='outer')\n",
        "            print(potential_customer.shape[0])\n",
        "\n",
        "    \n",
        "    with open(\"anchors.json\", \"w\", encoding='utf-8') as f:\n",
        "        json.dump(anchors_list, f, indent = 4)\n",
        "\n",
        "    with open(\"anchors_info.json\", \"w\", encoding='utf-8') as f:\n",
        "        json.dump(anchors_info, f, indent = 4)\n",
        "\n",
        "    potential_customer.to_excel(\"potential_customer.xlsx\")\n",
        "    \n",
        "    return(potential_customer)\n",
        "    "
      ]
    },
    {
      "cell_type": "code",
      "execution_count": 100,
      "metadata": {},
      "outputs": [
        {
          "name": "stdout",
          "output_type": "stream",
          "text": [
            "(3259, 36)\n",
            "0\n",
            "(3183, 36)\n",
            "1\n",
            "(3182, 36)\n",
            "1\n",
            "(3181, 36)\n",
            "1\n",
            "(3180, 36)\n",
            "1\n",
            "(3179, 36)\n",
            "1\n",
            "(2811, 36)\n",
            "2\n",
            "(2494, 36)\n",
            "3\n",
            "(2493, 36)\n",
            "3\n",
            "(2492, 36)\n",
            "3\n",
            "(2138, 36)\n",
            "4\n",
            "(2038, 36)\n",
            "5\n",
            "(2037, 36)\n",
            "5\n",
            "(2036, 36)\n",
            "5\n",
            "(2035, 36)\n",
            "5\n",
            "(2034, 36)\n",
            "5\n",
            "(2001, 36)\n",
            "6\n",
            "(1964, 36)\n",
            "7\n",
            "(1963, 36)\n",
            "7\n",
            "(1957, 36)\n",
            "8\n",
            "(1956, 36)\n",
            "8\n",
            "(1955, 36)\n",
            "8\n",
            "(1954, 36)\n",
            "8\n",
            "(1953, 36)\n",
            "8\n",
            "(1952, 36)\n",
            "8\n",
            "(1951, 36)\n",
            "8\n",
            "(1950, 36)\n",
            "8\n",
            "(1949, 36)\n",
            "8\n",
            "(1948, 36)\n",
            "8\n",
            "(1947, 36)\n",
            "8\n",
            "(1946, 36)\n",
            "8\n",
            "(1897, 36)\n",
            "9\n",
            "2\n",
            "24\n",
            "34\n",
            "71\n",
            "126\n",
            "127\n",
            "149\n",
            "154\n",
            "162\n",
            "206\n",
            "      Attrition_Flag  Customer_Age  Gender  Dependent_count  Months_on_book  \\\n",
            "4461               0            42       0                4              35   \n",
            "6266               0            39       0                1              36   \n",
            "1809               0            28       1                0              16   \n",
            "1155               0            38       0                1              27   \n",
            "1284               0            47       0                2              41   \n",
            "...              ...           ...     ...              ...             ...   \n",
            "3269               0            36       1                2              31   \n",
            "550                0            42       0                2              31   \n",
            "1704               0            42       1                3              37   \n",
            "1935               0            44       1                1              33   \n",
            "2084               0            54       0                2              43   \n",
            "\n",
            "      Total_Relationship_Count  Months_Inactive_12_mon  Contacts_Count_12_mon  \\\n",
            "4461                         4                       3                      1   \n",
            "6266                         3                       1                      1   \n",
            "1809                         5                       1                      3   \n",
            "1155                         6                       3                      4   \n",
            "1284                         5                       3                      4   \n",
            "...                        ...                     ...                    ...   \n",
            "3269                         3                       3                      2   \n",
            "550                          4                       2                      0   \n",
            "1704                         6                       3                      3   \n",
            "1935                         5                       4                      3   \n",
            "2084                         5                       1                      1   \n",
            "\n",
            "      Credit_Limit  Total_Revolving_Bal  ...  Income_Category_$120K +  \\\n",
            "4461        1539.0                    0  ...                        0   \n",
            "6266        1637.0                    0  ...                        0   \n",
            "1809        3665.0                    0  ...                        0   \n",
            "1155        8638.0                    0  ...                        0   \n",
            "1284        1438.3                    0  ...                        0   \n",
            "...            ...                  ...  ...                      ...   \n",
            "3269       11558.0                    0  ...                        0   \n",
            "550        22718.0                    0  ...                        0   \n",
            "1704       27310.0                    0  ...                        0   \n",
            "1935       19214.0                    0  ...                        0   \n",
            "2084        1438.3                    0  ...                        0   \n",
            "\n",
            "      Income_Category_$40K - $60K  Income_Category_$60K - $80K  \\\n",
            "4461                            0                            0   \n",
            "6266                            1                            0   \n",
            "1809                            1                            0   \n",
            "1155                            0                            0   \n",
            "1284                            0                            0   \n",
            "...                           ...                          ...   \n",
            "3269                            1                            0   \n",
            "550                             0                            0   \n",
            "1704                            0                            0   \n",
            "1935                            0                            0   \n",
            "2084                            1                            0   \n",
            "\n",
            "      Income_Category_$80K - $120K  Income_Category_Less than $40K  \\\n",
            "4461                             0                               1   \n",
            "6266                             0                               0   \n",
            "1809                             0                               0   \n",
            "1155                             0                               1   \n",
            "1284                             0                               1   \n",
            "...                            ...                             ...   \n",
            "3269                             0                               0   \n",
            "550                              0                               0   \n",
            "1704                             1                               0   \n",
            "1935                             1                               0   \n",
            "2084                             0                               0   \n",
            "\n",
            "      Income_Category_Unknown  Card_Category_Blue  Card_Category_Gold  \\\n",
            "4461                        0                   1                   0   \n",
            "6266                        0                   1                   0   \n",
            "1809                        0                   1                   0   \n",
            "1155                        0                   1                   0   \n",
            "1284                        0                   1                   0   \n",
            "...                       ...                 ...                 ...   \n",
            "3269                        0                   1                   0   \n",
            "550                         1                   1                   0   \n",
            "1704                        0                   1                   0   \n",
            "1935                        0                   1                   0   \n",
            "2084                        0                   1                   0   \n",
            "\n",
            "      Card_Category_Platinum  Card_Category_Silver  \n",
            "4461                       0                     0  \n",
            "6266                       0                     0  \n",
            "1809                       0                     0  \n",
            "1155                       0                     0  \n",
            "1284                       0                     0  \n",
            "...                      ...                   ...  \n",
            "3269                       0                     0  \n",
            "550                        0                     0  \n",
            "1704                       0                     0  \n",
            "1935                       0                     0  \n",
            "2084                       0                     0  \n",
            "\n",
            "[206 rows x 37 columns]\n"
          ]
        }
      ],
      "source": [
        "# anchor \n",
        "start = 10\n",
        "number = 10\n",
        "print(customer_list(start, number, dataset, df, c))"
      ]
    },
    {
      "cell_type": "code",
      "execution_count": 91,
      "metadata": {},
      "outputs": [
        {
          "name": "stdout",
          "output_type": "stream",
          "text": [
            "[ True  True False] \n",
            " [False  True  True] \n",
            " [False  True False]\n"
          ]
        },
        {
          "data": {
            "text/plain": [
              "array([False,  True, False])"
            ]
          },
          "execution_count": 91,
          "metadata": {},
          "output_type": "execute_result"
        }
      ],
      "source": [
        "myArray = np.array([[1, 2, 3, 4, 5], [11, 12, 13, 14, 15], [21, 22, 23, 24, 25]])\n",
        "a = (myArray[:,2] < 15)\n",
        "b = (myArray[:,2] > 10)\n",
        "print(a,'\\n',b,'\\n',a&b)\n",
        "#modifiedArray = np.delete(myArray, 0, 0)\n",
        "#print(modifiedArray)\n",
        "(a&b)"
      ]
    },
    {
      "cell_type": "code",
      "execution_count": 85,
      "metadata": {},
      "outputs": [
        {
          "data": {
            "text/plain": [
              "[8, 8, 8, 8, 8, 8, 8, 8, 8, 8]"
            ]
          },
          "execution_count": 85,
          "metadata": {},
          "output_type": "execute_result"
        }
      ],
      "source": [
        "[8]*10"
      ]
    }
  ],
  "metadata": {
    "colab": {
      "provenance": []
    },
    "kernelspec": {
      "display_name": "Python 3.10.6 64-bit",
      "language": "python",
      "name": "python3"
    },
    "language_info": {
      "codemirror_mode": {
        "name": "ipython",
        "version": 3
      },
      "file_extension": ".py",
      "mimetype": "text/x-python",
      "name": "python",
      "nbconvert_exporter": "python",
      "pygments_lexer": "ipython3",
      "version": "3.10.6"
    },
    "orig_nbformat": 4,
    "vscode": {
      "interpreter": {
        "hash": "9f32e29f85dbbd0b5b72d11109c42db7aa21d3406279ecdc66ca42ae05d6c5ee"
      }
    }
  },
  "nbformat": 4,
  "nbformat_minor": 0
}
