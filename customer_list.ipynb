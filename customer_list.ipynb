{
  "cells": [
    {
      "cell_type": "code",
      "execution_count": 23,
      "metadata": {
        "colab": {
          "base_uri": "https://localhost:8080/",
          "height": 480
        },
        "id": "YncRjveXeE0r",
        "outputId": "3a6b3c0b-a404-4651-f1c8-004eb5f24228"
      },
      "outputs": [
        {
          "name": "stdout",
          "output_type": "stream",
          "text": [
            "The autoreload extension is already loaded. To reload it, use:\n",
            "  %reload_ext autoreload\n"
          ]
        }
      ],
      "source": [
        "from __future__ import print_function\n",
        "import numpy as np\n",
        "import pandas as pd\n",
        "np.random.seed(1)\n",
        "import sys\n",
        "import sklearn\n",
        "import sklearn.ensemble\n",
        "%load_ext autoreload\n",
        "%autoreload 2\n",
        "from anchor import anchor_tabular\n",
        "from sklearn.model_selection import train_test_split\n",
        "import re\n",
        "import copy\n",
        "import json"
      ]
    },
    {
      "cell_type": "code",
      "execution_count": 24,
      "metadata": {
        "id": "eTbxmbDbeE0t"
      },
      "outputs": [],
      "source": [
        "import random\n",
        "import pandas as pd\n",
        "import matplotlib.pyplot as plt "
      ]
    },
    {
      "cell_type": "code",
      "execution_count": 25,
      "metadata": {
        "id": "yscqImHSeE0u"
      },
      "outputs": [],
      "source": [
        "## 定義一個 class\n",
        "class Bunch(object):\n",
        "    \"\"\"bla\"\"\"\n",
        "    def __init__(self, adict):\n",
        "        self.__dict__.update(adict)\n",
        "dataset = Bunch({})"
      ]
    },
    {
      "cell_type": "code",
      "execution_count": 26,
      "metadata": {
        "id": "-Lme6nBZeE0u"
      },
      "outputs": [],
      "source": [
        "# 原本的 code\n",
        "seed = 42\n",
        "random.seed(seed)\n",
        "\n",
        "df = pd.read_csv('BankChurners.csv')\n",
        "df = df[df.columns[:-2]]\n",
        "df = df.fillna(0)\n",
        "df['Attrition_Flag'] = df['Attrition_Flag'].replace({'Attrited Customer':1, 'Existing Customer':0})\n",
        "df['Gender'] = df['Gender'].replace({'M':1, 'F':0})\n",
        "df = df.drop('CLIENTNUM',axis=1)\n",
        "df = pd.get_dummies(data=df, columns=['Education_Level', 'Marital_Status', \n",
        "                                      'Income_Category', 'Card_Category']) # one-hot encoding\n"
      ]
    },
    {
      "cell_type": "code",
      "execution_count": 27,
      "metadata": {
        "id": "Tsl5kshgeE0v"
      },
      "outputs": [],
      "source": [
        "churn_index = df.index[df.Attrition_Flag == 1].tolist()\n",
        "non_churn_index = df.index[df.Attrition_Flag == 0].tolist()\n",
        "non_churn_index = random.sample(non_churn_index, len(churn_index)) # 讓 churn : non_churn 資料個數為 1 : 1\n",
        "new_idx = churn_index + non_churn_index\n",
        "df = df.loc[new_idx]"
      ]
    },
    {
      "cell_type": "code",
      "execution_count": 28,
      "metadata": {
        "id": "QQuwCe_meE01",
        "outputId": "b10b1546-7b77-40d7-c26b-50a8b8636b5b"
      },
      "outputs": [
        {
          "name": "stdout",
          "output_type": "stream",
          "text": [
            "(3254,)\n",
            "(3254, 36)\n"
          ]
        }
      ],
      "source": [
        "# 把原本的 pandas.DataFrame 轉成 np.array \n",
        "y = df['Attrition_Flag'].to_numpy()\n",
        "df_no_y = df.drop('Attrition_Flag', axis=1)\n",
        "x = df_no_y.to_numpy()\n",
        "print(y.shape)\n",
        "print(x.shape)"
      ]
    },
    {
      "cell_type": "code",
      "execution_count": 29,
      "metadata": {
        "colab": {
          "base_uri": "https://localhost:8080/",
          "height": 237
        },
        "id": "oSD-XPpmeE03",
        "outputId": "3b92e497-d68a-4203-cc56-dc981b8d32e6"
      },
      "outputs": [
        {
          "name": "stdout",
          "output_type": "stream",
          "text": [
            "Train 1.0\n",
            "Test 0.9416282642089093\n"
          ]
        }
      ],
      "source": [
        "# 模型預測\n",
        "c = sklearn.ensemble.RandomForestClassifier(n_estimators=50, n_jobs=5)\n",
        "train_x, test_x, train_y, test_y = train_test_split(x, y, test_size=0.2, random_state=100)\n",
        "c.fit(train_x, train_y)\n",
        "print('Train', sklearn.metrics.accuracy_score(train_y, c.predict(train_x)))\n",
        "print('Test', sklearn.metrics.accuracy_score(test_y, c.predict(test_x)))"
      ]
    },
    {
      "cell_type": "code",
      "execution_count": 30,
      "metadata": {
        "id": "AwLY8cHzeE03"
      },
      "outputs": [],
      "source": [
        "# 定義 anchor 中的參數\n",
        "dataset.train = train_x # 訓練資料 (numpy)\n",
        "dataset.test = test_x  # 測試資料 (numpy)\n",
        "dataset.categorical_names = {} # label encoding前的內容 (dict) \n",
        "dataset.class_names = ['Existing Customer','Attrited Customer'] # label的名稱 (list) \n",
        "dataset.feature_names = np.array(df_no_y.columns.to_list()) # feature的名稱 (numpy)"
      ]
    },
    {
      "cell_type": "code",
      "execution_count": 31,
      "metadata": {
        "colab": {
          "base_uri": "https://localhost:8080/",
          "height": 237
        },
        "id": "ShzYOjcseE04",
        "outputId": "f08c7d65-6c07-4eb8-903e-e0a99ca95fb0"
      },
      "outputs": [],
      "source": [
        "# anchor explainer \n",
        "explainer = anchor_tabular.AnchorTabularExplainer(\n",
        "    dataset.class_names,\n",
        "    dataset.feature_names,\n",
        "    dataset.train,\n",
        "    dataset.categorical_names)"
      ]
    },
    {
      "cell_type": "code",
      "execution_count": 32,
      "metadata": {},
      "outputs": [],
      "source": [
        "'''\n",
        "input 內容:\n",
        "    1. start -> 從哪一個客戶開始找 anchor\n",
        "    2. number -> 要從幾個客戶身上找 anchor\n",
        "    3. dataset -> 訓練模型時使用的 dataset\n",
        "    4. df -> 原始表格\n",
        "    5. model -> 要解釋的模型\n",
        "    6. seed -> 亂數種子(預設為1) \n",
        "\n",
        "\n",
        "重要變數:\n",
        "    1. anchors_list : 所有 anchor 集合\n",
        "    2. anchors : 做過 regular expression 的所有 anchor 集合\n",
        "    3. anchors_info : anchor 詳細資料  \n",
        "        (1) 規則\n",
        "        (2) anchors 所包含的客戶數量(原本兆豐所有客戶中所包含的客戶數量)\n",
        "        (3) anchors 信心水準 \n",
        "    4. potential_customer : 潛在客戶名單\n",
        "    \n",
        "'''\n",
        "def customer_list(start, number, dataset, df, model, seed = 1):\n",
        "    \n",
        "    # 設定種子\n",
        "    np.random.seed(seed)\n",
        "\n",
        "    # 製作 Anchors 解釋器\n",
        "    explainer = anchor_tabular.AnchorTabularExplainer(\n",
        "            dataset.class_names,\n",
        "            dataset.feature_names,\n",
        "            dataset.train,\n",
        "            dataset.categorical_names)\n",
        "\n",
        "    # 變數定義\n",
        "    potential_customer = pd.DataFrame() #潛在客戶名單\n",
        "    anchors_list = [] # anchors 規則清單\n",
        "    anchors_list_confidence = [] # anchors 規則信心水準清單\n",
        "    anchors = [] # 經過 regular expression 的 anchors 規則\n",
        "    anchors_info = [] # anchors 詳細清單\n",
        "    \n",
        "    \n",
        "    \n",
        "    # 從 anchors 抓取資訊\n",
        "    current_number = 0\n",
        "    for i in dataset.test[start:]:\n",
        "        if (current_number == number):\n",
        "            break\n",
        "        if(model.predict(i.reshape(1, -1))[0]):\n",
        "            exp = explainer.explain_instance(i, model.predict, threshold=0.90)\n",
        "            anchors_list.append(exp.names()) # anchors 結果\n",
        "            anchors_list_confidence.append(exp.precision()) # anchors 精確度\n",
        "            current_number += 1\n",
        "    \n",
        "    # 將重複的 anchors 刪掉\n",
        "    temp_anchors_list = []\n",
        "    for i,j in enumerate(anchors_list):\n",
        "        if j not in temp_anchors_list:\n",
        "            temp_anchors_list.append(j)\n",
        "            anchors_info.append(\n",
        "                {\n",
        "                    \"condition\" : j,\n",
        "                    \"Quantity covered\" : 0,\n",
        "                    \"confidence interval\" : anchors_list_confidence[i]\n",
        "                }\n",
        "            ) \n",
        "    anchors_list = temp_anchors_list\n",
        "   \n",
        "    # 將規則做 regular expression 並存入 anchors 中 \n",
        "    for i in anchors_list:   \n",
        "        str_split = [re.split('( <= | >= | < | > )',j) for j in i]\n",
        "        anchors.append(str_split)\n",
        "    \n",
        "    ## 從找到的規則中尋找潛在客戶  \n",
        "    '''\n",
        "    演算法 :\n",
        "    \n",
        "    1. 從全部的 anchors 中，取出一個 anchor，後續步驟以下分述之:\n",
        "\n",
        "        (1) 根據該 anchor 中的條件取出一個條件進行篩選，並將篩選出是否符合客戶資料之結果，放入 idx 變數中。\n",
        "        (2) 使用 idx 變數篩選符合該條件的客戶，存到 temp_df變數中。若有其他條件需要篩選 -> 回到(1)；否則則進到(3)。\n",
        "        (3) 將 temp_df 中 label 為 0 (非目前客戶)的客戶，放入潛在客戶名單。若有其他 anchor 未計算 -> 回到 1.；否則則進到 2.。 \n",
        "    \n",
        "    2. 將資料輸出，輸出內容以下分述之:\n",
        "        \n",
        "        (1) anchor 名單\n",
        "        (2) 潛在客戶名單\n",
        "    '''\n",
        "\n",
        "    for n,anchor in enumerate(anchors):\n",
        "        \n",
        "        temp_df = df \n",
        "        for i in anchor:\n",
        "            if (i[1] == ' >= '):\n",
        "                idx = temp_df.loc[:,i[0]] >= float(i[2])\n",
        "            elif (i[1] == ' <= '):\n",
        "                idx = temp_df.loc[:,i[0]] <= float(i[2])\n",
        "            elif (i[1] == ' > '):\n",
        "                idx = temp_df.loc[:,i[0]] > float(i[2])\n",
        "            elif (i[1] == ' < '):\n",
        "                idx = temp_df.loc[:,i[0]] < float(i[2])\n",
        "            else:\n",
        "                continue\n",
        "             \n",
        "            temp_df = temp_df[idx]\n",
        "            anchors_info[n]['Quantity covered'] = temp_df.shape[0]\n",
        "            \n",
        "        else: \n",
        "            idx = temp_df.loc[:,'Attrition_Flag'] == 0\n",
        "            temp_df = temp_df[idx] \n",
        "            potential_customer = pd.concat([potential_customer,temp_df], join='outer')\n",
        "            print(potential_customer.shape[0])\n",
        "\n",
        "    \n",
        "    with open(\"anchors.json\", \"w\", encoding='utf-8') as f:\n",
        "        json.dump(anchors_list, f, indent = 4)\n",
        "\n",
        "    with open(\"anchors_info.json\", \"w\", encoding='utf-8') as f:\n",
        "        json.dump(anchors_info, f, indent = 4)\n",
        "\n",
        "    potential_customer.to_excel(\"potential_customer.xlsx\")\n",
        "    \n",
        "    return(potential_customer)\n",
        "    "
      ]
    },
    {
      "cell_type": "code",
      "execution_count": 34,
      "metadata": {},
      "outputs": [
        {
          "name": "stdout",
          "output_type": "stream",
          "text": [
            "10\n",
            "13\n",
            "35\n",
            "43\n",
            "53\n",
            "63\n",
            "76\n",
            "81\n",
            "154\n",
            "164\n",
            "169\n",
            "169\n",
            "191\n",
            "196\n",
            "197\n"
          ]
        },
        {
          "ename": "PermissionError",
          "evalue": "[Errno 13] Permission denied: 'potential_customer.xlsx'",
          "output_type": "error",
          "traceback": [
            "\u001b[1;31m---------------------------------------------------------------------------\u001b[0m",
            "\u001b[1;31mPermissionError\u001b[0m                           Traceback (most recent call last)",
            "\u001b[1;32mc:\\Users\\uscc_carl\\Desktop\\CSIE\\兆豐計畫\\anchor\\Anchor_churn\\projectAnchor\\customer_list.ipynb Cell 11\u001b[0m in \u001b[0;36m<cell line: 4>\u001b[1;34m()\u001b[0m\n\u001b[0;32m      <a href='vscode-notebook-cell:/c%3A/Users/uscc_carl/Desktop/CSIE/%E5%85%86%E8%B1%90%E8%A8%88%E7%95%AB/anchor/Anchor_churn/projectAnchor/customer_list.ipynb#X13sZmlsZQ%3D%3D?line=1'>2</a>\u001b[0m start \u001b[39m=\u001b[39m \u001b[39m10\u001b[39m\n\u001b[0;32m      <a href='vscode-notebook-cell:/c%3A/Users/uscc_carl/Desktop/CSIE/%E5%85%86%E8%B1%90%E8%A8%88%E7%95%AB/anchor/Anchor_churn/projectAnchor/customer_list.ipynb#X13sZmlsZQ%3D%3D?line=2'>3</a>\u001b[0m number \u001b[39m=\u001b[39m \u001b[39m15\u001b[39m\n\u001b[1;32m----> <a href='vscode-notebook-cell:/c%3A/Users/uscc_carl/Desktop/CSIE/%E5%85%86%E8%B1%90%E8%A8%88%E7%95%AB/anchor/Anchor_churn/projectAnchor/customer_list.ipynb#X13sZmlsZQ%3D%3D?line=3'>4</a>\u001b[0m \u001b[39mprint\u001b[39m(customer_list(start, number, dataset, df, c))\n",
            "\u001b[1;32mc:\\Users\\uscc_carl\\Desktop\\CSIE\\兆豐計畫\\anchor\\Anchor_churn\\projectAnchor\\customer_list.ipynb Cell 11\u001b[0m in \u001b[0;36mcustomer_list\u001b[1;34m(start, number, dataset, df, model, seed)\u001b[0m\n\u001b[0;32m    <a href='vscode-notebook-cell:/c%3A/Users/uscc_carl/Desktop/CSIE/%E5%85%86%E8%B1%90%E8%A8%88%E7%95%AB/anchor/Anchor_churn/projectAnchor/customer_list.ipynb#X13sZmlsZQ%3D%3D?line=115'>116</a>\u001b[0m \u001b[39mwith\u001b[39;00m \u001b[39mopen\u001b[39m(\u001b[39m\"\u001b[39m\u001b[39manchors_info.json\u001b[39m\u001b[39m\"\u001b[39m, \u001b[39m\"\u001b[39m\u001b[39mw\u001b[39m\u001b[39m\"\u001b[39m, encoding\u001b[39m=\u001b[39m\u001b[39m'\u001b[39m\u001b[39mutf-8\u001b[39m\u001b[39m'\u001b[39m) \u001b[39mas\u001b[39;00m f:\n\u001b[0;32m    <a href='vscode-notebook-cell:/c%3A/Users/uscc_carl/Desktop/CSIE/%E5%85%86%E8%B1%90%E8%A8%88%E7%95%AB/anchor/Anchor_churn/projectAnchor/customer_list.ipynb#X13sZmlsZQ%3D%3D?line=116'>117</a>\u001b[0m     json\u001b[39m.\u001b[39mdump(anchors_info, f, indent \u001b[39m=\u001b[39m \u001b[39m4\u001b[39m)\n\u001b[1;32m--> <a href='vscode-notebook-cell:/c%3A/Users/uscc_carl/Desktop/CSIE/%E5%85%86%E8%B1%90%E8%A8%88%E7%95%AB/anchor/Anchor_churn/projectAnchor/customer_list.ipynb#X13sZmlsZQ%3D%3D?line=118'>119</a>\u001b[0m potential_customer\u001b[39m.\u001b[39;49mto_excel(\u001b[39m\"\u001b[39;49m\u001b[39mpotential_customer.xlsx\u001b[39;49m\u001b[39m\"\u001b[39;49m)\n\u001b[0;32m    <a href='vscode-notebook-cell:/c%3A/Users/uscc_carl/Desktop/CSIE/%E5%85%86%E8%B1%90%E8%A8%88%E7%95%AB/anchor/Anchor_churn/projectAnchor/customer_list.ipynb#X13sZmlsZQ%3D%3D?line=120'>121</a>\u001b[0m \u001b[39mreturn\u001b[39;00m(potential_customer)\n",
            "File \u001b[1;32mc:\\Users\\uscc_carl\\AppData\\Local\\Programs\\Python\\Python310\\lib\\site-packages\\pandas\\core\\generic.py:2345\u001b[0m, in \u001b[0;36mNDFrame.to_excel\u001b[1;34m(self, excel_writer, sheet_name, na_rep, float_format, columns, header, index, index_label, startrow, startcol, engine, merge_cells, encoding, inf_rep, verbose, freeze_panes, storage_options)\u001b[0m\n\u001b[0;32m   2332\u001b[0m \u001b[39mfrom\u001b[39;00m \u001b[39mpandas\u001b[39;00m\u001b[39m.\u001b[39;00m\u001b[39mio\u001b[39;00m\u001b[39m.\u001b[39;00m\u001b[39mformats\u001b[39;00m\u001b[39m.\u001b[39;00m\u001b[39mexcel\u001b[39;00m \u001b[39mimport\u001b[39;00m ExcelFormatter\n\u001b[0;32m   2334\u001b[0m formatter \u001b[39m=\u001b[39m ExcelFormatter(\n\u001b[0;32m   2335\u001b[0m     df,\n\u001b[0;32m   2336\u001b[0m     na_rep\u001b[39m=\u001b[39mna_rep,\n\u001b[1;32m   (...)\u001b[0m\n\u001b[0;32m   2343\u001b[0m     inf_rep\u001b[39m=\u001b[39minf_rep,\n\u001b[0;32m   2344\u001b[0m )\n\u001b[1;32m-> 2345\u001b[0m formatter\u001b[39m.\u001b[39;49mwrite(\n\u001b[0;32m   2346\u001b[0m     excel_writer,\n\u001b[0;32m   2347\u001b[0m     sheet_name\u001b[39m=\u001b[39;49msheet_name,\n\u001b[0;32m   2348\u001b[0m     startrow\u001b[39m=\u001b[39;49mstartrow,\n\u001b[0;32m   2349\u001b[0m     startcol\u001b[39m=\u001b[39;49mstartcol,\n\u001b[0;32m   2350\u001b[0m     freeze_panes\u001b[39m=\u001b[39;49mfreeze_panes,\n\u001b[0;32m   2351\u001b[0m     engine\u001b[39m=\u001b[39;49mengine,\n\u001b[0;32m   2352\u001b[0m     storage_options\u001b[39m=\u001b[39;49mstorage_options,\n\u001b[0;32m   2353\u001b[0m )\n",
            "File \u001b[1;32mc:\\Users\\uscc_carl\\AppData\\Local\\Programs\\Python\\Python310\\lib\\site-packages\\pandas\\io\\formats\\excel.py:888\u001b[0m, in \u001b[0;36mExcelFormatter.write\u001b[1;34m(self, writer, sheet_name, startrow, startcol, freeze_panes, engine, storage_options)\u001b[0m\n\u001b[0;32m    884\u001b[0m     need_save \u001b[39m=\u001b[39m \u001b[39mFalse\u001b[39;00m\n\u001b[0;32m    885\u001b[0m \u001b[39melse\u001b[39;00m:\n\u001b[0;32m    886\u001b[0m     \u001b[39m# error: Cannot instantiate abstract class 'ExcelWriter' with abstract\u001b[39;00m\n\u001b[0;32m    887\u001b[0m     \u001b[39m# attributes 'engine', 'save', 'supported_extensions' and 'write_cells'\u001b[39;00m\n\u001b[1;32m--> 888\u001b[0m     writer \u001b[39m=\u001b[39m ExcelWriter(  \u001b[39m# type: ignore[abstract]\u001b[39;49;00m\n\u001b[0;32m    889\u001b[0m         writer, engine\u001b[39m=\u001b[39;49mengine, storage_options\u001b[39m=\u001b[39;49mstorage_options\n\u001b[0;32m    890\u001b[0m     )\n\u001b[0;32m    891\u001b[0m     need_save \u001b[39m=\u001b[39m \u001b[39mTrue\u001b[39;00m\n\u001b[0;32m    893\u001b[0m \u001b[39mtry\u001b[39;00m:\n",
            "File \u001b[1;32mc:\\Users\\uscc_carl\\AppData\\Local\\Programs\\Python\\Python310\\lib\\site-packages\\pandas\\io\\excel\\_openpyxl.py:53\u001b[0m, in \u001b[0;36mOpenpyxlWriter.__init__\u001b[1;34m(self, path, engine, date_format, datetime_format, mode, storage_options, if_sheet_exists, engine_kwargs, **kwargs)\u001b[0m\n\u001b[0;32m     49\u001b[0m \u001b[39mfrom\u001b[39;00m \u001b[39mopenpyxl\u001b[39;00m\u001b[39m.\u001b[39;00m\u001b[39mworkbook\u001b[39;00m \u001b[39mimport\u001b[39;00m Workbook\n\u001b[0;32m     51\u001b[0m engine_kwargs \u001b[39m=\u001b[39m combine_kwargs(engine_kwargs, kwargs)\n\u001b[1;32m---> 53\u001b[0m \u001b[39msuper\u001b[39;49m()\u001b[39m.\u001b[39;49m\u001b[39m__init__\u001b[39;49m(\n\u001b[0;32m     54\u001b[0m     path,\n\u001b[0;32m     55\u001b[0m     mode\u001b[39m=\u001b[39;49mmode,\n\u001b[0;32m     56\u001b[0m     storage_options\u001b[39m=\u001b[39;49mstorage_options,\n\u001b[0;32m     57\u001b[0m     if_sheet_exists\u001b[39m=\u001b[39;49mif_sheet_exists,\n\u001b[0;32m     58\u001b[0m     engine_kwargs\u001b[39m=\u001b[39;49mengine_kwargs,\n\u001b[0;32m     59\u001b[0m )\n\u001b[0;32m     61\u001b[0m \u001b[39m# ExcelWriter replaced \"a\" by \"r+\" to allow us to first read the excel file from\u001b[39;00m\n\u001b[0;32m     62\u001b[0m \u001b[39m# the file and later write to it\u001b[39;00m\n\u001b[0;32m     63\u001b[0m \u001b[39mif\u001b[39;00m \u001b[39m\"\u001b[39m\u001b[39mr+\u001b[39m\u001b[39m\"\u001b[39m \u001b[39min\u001b[39;00m \u001b[39mself\u001b[39m\u001b[39m.\u001b[39mmode:  \u001b[39m# Load from existing workbook\u001b[39;00m\n",
            "File \u001b[1;32mc:\\Users\\uscc_carl\\AppData\\Local\\Programs\\Python\\Python310\\lib\\site-packages\\pandas\\io\\excel\\_base.py:1106\u001b[0m, in \u001b[0;36mExcelWriter.__init__\u001b[1;34m(self, path, engine, date_format, datetime_format, mode, storage_options, if_sheet_exists, engine_kwargs, **kwargs)\u001b[0m\n\u001b[0;32m   1102\u001b[0m \u001b[39mself\u001b[39m\u001b[39m.\u001b[39mhandles \u001b[39m=\u001b[39m IOHandles(\n\u001b[0;32m   1103\u001b[0m     cast(IO[\u001b[39mbytes\u001b[39m], path), compression\u001b[39m=\u001b[39m{\u001b[39m\"\u001b[39m\u001b[39mcompression\u001b[39m\u001b[39m\"\u001b[39m: \u001b[39mNone\u001b[39;00m}\n\u001b[0;32m   1104\u001b[0m )\n\u001b[0;32m   1105\u001b[0m \u001b[39mif\u001b[39;00m \u001b[39mnot\u001b[39;00m \u001b[39misinstance\u001b[39m(path, ExcelWriter):\n\u001b[1;32m-> 1106\u001b[0m     \u001b[39mself\u001b[39m\u001b[39m.\u001b[39mhandles \u001b[39m=\u001b[39m get_handle(\n\u001b[0;32m   1107\u001b[0m         path, mode, storage_options\u001b[39m=\u001b[39;49mstorage_options, is_text\u001b[39m=\u001b[39;49m\u001b[39mFalse\u001b[39;49;00m\n\u001b[0;32m   1108\u001b[0m     )\n\u001b[0;32m   1109\u001b[0m \u001b[39mself\u001b[39m\u001b[39m.\u001b[39msheets: \u001b[39mdict\u001b[39m[\u001b[39mstr\u001b[39m, Any] \u001b[39m=\u001b[39m {}\n\u001b[0;32m   1110\u001b[0m \u001b[39mself\u001b[39m\u001b[39m.\u001b[39mcur_sheet \u001b[39m=\u001b[39m \u001b[39mNone\u001b[39;00m\n",
            "File \u001b[1;32mc:\\Users\\uscc_carl\\AppData\\Local\\Programs\\Python\\Python310\\lib\\site-packages\\pandas\\io\\common.py:795\u001b[0m, in \u001b[0;36mget_handle\u001b[1;34m(path_or_buf, mode, encoding, compression, memory_map, is_text, errors, storage_options)\u001b[0m\n\u001b[0;32m    786\u001b[0m         handle \u001b[39m=\u001b[39m \u001b[39mopen\u001b[39m(\n\u001b[0;32m    787\u001b[0m             handle,\n\u001b[0;32m    788\u001b[0m             ioargs\u001b[39m.\u001b[39mmode,\n\u001b[1;32m   (...)\u001b[0m\n\u001b[0;32m    791\u001b[0m             newline\u001b[39m=\u001b[39m\u001b[39m\"\u001b[39m\u001b[39m\"\u001b[39m,\n\u001b[0;32m    792\u001b[0m         )\n\u001b[0;32m    793\u001b[0m     \u001b[39melse\u001b[39;00m:\n\u001b[0;32m    794\u001b[0m         \u001b[39m# Binary mode\u001b[39;00m\n\u001b[1;32m--> 795\u001b[0m         handle \u001b[39m=\u001b[39m \u001b[39mopen\u001b[39;49m(handle, ioargs\u001b[39m.\u001b[39;49mmode)\n\u001b[0;32m    796\u001b[0m     handles\u001b[39m.\u001b[39mappend(handle)\n\u001b[0;32m    798\u001b[0m \u001b[39m# Convert BytesIO or file objects passed with an encoding\u001b[39;00m\n",
            "\u001b[1;31mPermissionError\u001b[0m: [Errno 13] Permission denied: 'potential_customer.xlsx'"
          ]
        }
      ],
      "source": [
        "# anchor \n",
        "start = 10\n",
        "number = 15\n",
        "print(customer_list(start, number, dataset, df, c))"
      ]
    }
  ],
  "metadata": {
    "colab": {
      "provenance": []
    },
    "kernelspec": {
      "display_name": "Python 3.10.6 64-bit",
      "language": "python",
      "name": "python3"
    },
    "language_info": {
      "codemirror_mode": {
        "name": "ipython",
        "version": 3
      },
      "file_extension": ".py",
      "mimetype": "text/x-python",
      "name": "python",
      "nbconvert_exporter": "python",
      "pygments_lexer": "ipython3",
      "version": "3.10.6"
    },
    "orig_nbformat": 4,
    "vscode": {
      "interpreter": {
        "hash": "9f32e29f85dbbd0b5b72d11109c42db7aa21d3406279ecdc66ca42ae05d6c5ee"
      }
    }
  },
  "nbformat": 4,
  "nbformat_minor": 0
}
